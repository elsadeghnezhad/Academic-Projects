{
  "cells": [
    {
      "cell_type": "markdown",
      "metadata": {
        "id": "_YJUn-EzVMH2"
      },
      "source": [
        "1. Get data from Kaggle\n",
        "2. Read Official list of data from my Google Drive"
      ]
    },
    {
      "cell_type": "code",
      "execution_count": null,
      "metadata": {
        "colab": {
          "base_uri": "https://localhost:8080/"
        },
        "id": "9LcO9P2xWOiZ",
        "outputId": "df6f6551-f5f5-45d4-bdf3-f38b0bf7d247"
      },
      "outputs": [
        {
          "output_type": "stream",
          "name": "stdout",
          "text": [
            "Drive already mounted at /content/drive; to attempt to forcibly remount, call drive.mount(\"/content/drive\", force_remount=True).\n"
          ]
        }
      ],
      "source": [
        "from google.colab import drive\n",
        "drive.mount('/content/drive')"
      ]
    },
    {
      "cell_type": "code",
      "execution_count": null,
      "metadata": {
        "colab": {
          "base_uri": "https://localhost:8080/",
          "height": 90
        },
        "id": "rwd3wrf5abEF",
        "outputId": "5c4cd537-680e-496c-b249-35b635556492"
      },
      "outputs": [
        {
          "output_type": "display_data",
          "data": {
            "text/plain": [
              "<IPython.core.display.HTML object>"
            ],
            "text/html": [
              "\n",
              "     <input type=\"file\" id=\"files-229cfb5a-57ea-41ca-af5d-68f46e13f0bc\" name=\"files[]\" multiple disabled\n",
              "        style=\"border:none\" />\n",
              "     <output id=\"result-229cfb5a-57ea-41ca-af5d-68f46e13f0bc\">\n",
              "      Upload widget is only available when the cell has been executed in the\n",
              "      current browser session. Please rerun this cell to enable.\n",
              "      </output>\n",
              "      <script>// Copyright 2017 Google LLC\n",
              "//\n",
              "// Licensed under the Apache License, Version 2.0 (the \"License\");\n",
              "// you may not use this file except in compliance with the License.\n",
              "// You may obtain a copy of the License at\n",
              "//\n",
              "//      http://www.apache.org/licenses/LICENSE-2.0\n",
              "//\n",
              "// Unless required by applicable law or agreed to in writing, software\n",
              "// distributed under the License is distributed on an \"AS IS\" BASIS,\n",
              "// WITHOUT WARRANTIES OR CONDITIONS OF ANY KIND, either express or implied.\n",
              "// See the License for the specific language governing permissions and\n",
              "// limitations under the License.\n",
              "\n",
              "/**\n",
              " * @fileoverview Helpers for google.colab Python module.\n",
              " */\n",
              "(function(scope) {\n",
              "function span(text, styleAttributes = {}) {\n",
              "  const element = document.createElement('span');\n",
              "  element.textContent = text;\n",
              "  for (const key of Object.keys(styleAttributes)) {\n",
              "    element.style[key] = styleAttributes[key];\n",
              "  }\n",
              "  return element;\n",
              "}\n",
              "\n",
              "// Max number of bytes which will be uploaded at a time.\n",
              "const MAX_PAYLOAD_SIZE = 100 * 1024;\n",
              "\n",
              "function _uploadFiles(inputId, outputId) {\n",
              "  const steps = uploadFilesStep(inputId, outputId);\n",
              "  const outputElement = document.getElementById(outputId);\n",
              "  // Cache steps on the outputElement to make it available for the next call\n",
              "  // to uploadFilesContinue from Python.\n",
              "  outputElement.steps = steps;\n",
              "\n",
              "  return _uploadFilesContinue(outputId);\n",
              "}\n",
              "\n",
              "// This is roughly an async generator (not supported in the browser yet),\n",
              "// where there are multiple asynchronous steps and the Python side is going\n",
              "// to poll for completion of each step.\n",
              "// This uses a Promise to block the python side on completion of each step,\n",
              "// then passes the result of the previous step as the input to the next step.\n",
              "function _uploadFilesContinue(outputId) {\n",
              "  const outputElement = document.getElementById(outputId);\n",
              "  const steps = outputElement.steps;\n",
              "\n",
              "  const next = steps.next(outputElement.lastPromiseValue);\n",
              "  return Promise.resolve(next.value.promise).then((value) => {\n",
              "    // Cache the last promise value to make it available to the next\n",
              "    // step of the generator.\n",
              "    outputElement.lastPromiseValue = value;\n",
              "    return next.value.response;\n",
              "  });\n",
              "}\n",
              "\n",
              "/**\n",
              " * Generator function which is called between each async step of the upload\n",
              " * process.\n",
              " * @param {string} inputId Element ID of the input file picker element.\n",
              " * @param {string} outputId Element ID of the output display.\n",
              " * @return {!Iterable<!Object>} Iterable of next steps.\n",
              " */\n",
              "function* uploadFilesStep(inputId, outputId) {\n",
              "  const inputElement = document.getElementById(inputId);\n",
              "  inputElement.disabled = false;\n",
              "\n",
              "  const outputElement = document.getElementById(outputId);\n",
              "  outputElement.innerHTML = '';\n",
              "\n",
              "  const pickedPromise = new Promise((resolve) => {\n",
              "    inputElement.addEventListener('change', (e) => {\n",
              "      resolve(e.target.files);\n",
              "    });\n",
              "  });\n",
              "\n",
              "  const cancel = document.createElement('button');\n",
              "  inputElement.parentElement.appendChild(cancel);\n",
              "  cancel.textContent = 'Cancel upload';\n",
              "  const cancelPromise = new Promise((resolve) => {\n",
              "    cancel.onclick = () => {\n",
              "      resolve(null);\n",
              "    };\n",
              "  });\n",
              "\n",
              "  // Wait for the user to pick the files.\n",
              "  const files = yield {\n",
              "    promise: Promise.race([pickedPromise, cancelPromise]),\n",
              "    response: {\n",
              "      action: 'starting',\n",
              "    }\n",
              "  };\n",
              "\n",
              "  cancel.remove();\n",
              "\n",
              "  // Disable the input element since further picks are not allowed.\n",
              "  inputElement.disabled = true;\n",
              "\n",
              "  if (!files) {\n",
              "    return {\n",
              "      response: {\n",
              "        action: 'complete',\n",
              "      }\n",
              "    };\n",
              "  }\n",
              "\n",
              "  for (const file of files) {\n",
              "    const li = document.createElement('li');\n",
              "    li.append(span(file.name, {fontWeight: 'bold'}));\n",
              "    li.append(span(\n",
              "        `(${file.type || 'n/a'}) - ${file.size} bytes, ` +\n",
              "        `last modified: ${\n",
              "            file.lastModifiedDate ? file.lastModifiedDate.toLocaleDateString() :\n",
              "                                    'n/a'} - `));\n",
              "    const percent = span('0% done');\n",
              "    li.appendChild(percent);\n",
              "\n",
              "    outputElement.appendChild(li);\n",
              "\n",
              "    const fileDataPromise = new Promise((resolve) => {\n",
              "      const reader = new FileReader();\n",
              "      reader.onload = (e) => {\n",
              "        resolve(e.target.result);\n",
              "      };\n",
              "      reader.readAsArrayBuffer(file);\n",
              "    });\n",
              "    // Wait for the data to be ready.\n",
              "    let fileData = yield {\n",
              "      promise: fileDataPromise,\n",
              "      response: {\n",
              "        action: 'continue',\n",
              "      }\n",
              "    };\n",
              "\n",
              "    // Use a chunked sending to avoid message size limits. See b/62115660.\n",
              "    let position = 0;\n",
              "    do {\n",
              "      const length = Math.min(fileData.byteLength - position, MAX_PAYLOAD_SIZE);\n",
              "      const chunk = new Uint8Array(fileData, position, length);\n",
              "      position += length;\n",
              "\n",
              "      const base64 = btoa(String.fromCharCode.apply(null, chunk));\n",
              "      yield {\n",
              "        response: {\n",
              "          action: 'append',\n",
              "          file: file.name,\n",
              "          data: base64,\n",
              "        },\n",
              "      };\n",
              "\n",
              "      let percentDone = fileData.byteLength === 0 ?\n",
              "          100 :\n",
              "          Math.round((position / fileData.byteLength) * 100);\n",
              "      percent.textContent = `${percentDone}% done`;\n",
              "\n",
              "    } while (position < fileData.byteLength);\n",
              "  }\n",
              "\n",
              "  // All done.\n",
              "  yield {\n",
              "    response: {\n",
              "      action: 'complete',\n",
              "    }\n",
              "  };\n",
              "}\n",
              "\n",
              "scope.google = scope.google || {};\n",
              "scope.google.colab = scope.google.colab || {};\n",
              "scope.google.colab._files = {\n",
              "  _uploadFiles,\n",
              "  _uploadFilesContinue,\n",
              "};\n",
              "})(self);\n",
              "</script> "
            ]
          },
          "metadata": {}
        },
        {
          "output_type": "stream",
          "name": "stdout",
          "text": [
            "Saving kaggle.json to kaggle.json\n"
          ]
        },
        {
          "output_type": "execute_result",
          "data": {
            "text/plain": [
              "{'kaggle.json': b'{\"username\":\"springinwinter\",\"key\":\"a2604ce869103163aa506ae63a9c7b4b\"}'}"
            ]
          },
          "metadata": {},
          "execution_count": 2
        }
      ],
      "source": [
        "from google.colab import files\n",
        "\n",
        "files.upload()  # this will prompt you to upload the kaggle.json :)"
      ]
    },
    {
      "cell_type": "code",
      "execution_count": null,
      "metadata": {
        "id": "YxTme8I0agV1",
        "colab": {
          "base_uri": "https://localhost:8080/"
        },
        "outputId": "557e1dab-c87f-4e18-cb5f-2dc1381d9968"
      },
      "outputs": [
        {
          "output_type": "stream",
          "name": "stdout",
          "text": [
            "Requirement already satisfied: kaggle in /usr/local/lib/python3.10/dist-packages (1.5.16)\n",
            "Requirement already satisfied: six>=1.10 in /usr/local/lib/python3.10/dist-packages (from kaggle) (1.16.0)\n",
            "Requirement already satisfied: certifi in /usr/local/lib/python3.10/dist-packages (from kaggle) (2023.7.22)\n",
            "Requirement already satisfied: python-dateutil in /usr/local/lib/python3.10/dist-packages (from kaggle) (2.8.2)\n",
            "Requirement already satisfied: requests in /usr/local/lib/python3.10/dist-packages (from kaggle) (2.31.0)\n",
            "Requirement already satisfied: tqdm in /usr/local/lib/python3.10/dist-packages (from kaggle) (4.66.1)\n",
            "Requirement already satisfied: python-slugify in /usr/local/lib/python3.10/dist-packages (from kaggle) (8.0.1)\n",
            "Requirement already satisfied: urllib3 in /usr/local/lib/python3.10/dist-packages (from kaggle) (2.0.4)\n",
            "Requirement already satisfied: bleach in /usr/local/lib/python3.10/dist-packages (from kaggle) (6.0.0)\n",
            "Requirement already satisfied: webencodings in /usr/local/lib/python3.10/dist-packages (from bleach->kaggle) (0.5.1)\n",
            "Requirement already satisfied: text-unidecode>=1.3 in /usr/local/lib/python3.10/dist-packages (from python-slugify->kaggle) (1.3)\n",
            "Requirement already satisfied: charset-normalizer<4,>=2 in /usr/local/lib/python3.10/dist-packages (from requests->kaggle) (3.2.0)\n",
            "Requirement already satisfied: idna<4,>=2.5 in /usr/local/lib/python3.10/dist-packages (from requests->kaggle) (3.4)\n"
          ]
        }
      ],
      "source": [
        "!pip install kaggle\n",
        "! mkdir ~/.kaggle\n",
        "! cp kaggle.json ~/.kaggle/\n",
        "! chmod 600 ~/.kaggle/kaggle.json"
      ]
    },
    {
      "cell_type": "code",
      "execution_count": null,
      "metadata": {
        "colab": {
          "base_uri": "https://localhost:8080/"
        },
        "id": "kUAnlZ6VayBK",
        "outputId": "e1a5878d-f32f-4fa6-fcf7-f07343edab3e"
      },
      "outputs": [
        {
          "output_type": "stream",
          "name": "stdout",
          "text": [
            "Downloading data.zip to /content\n",
            "100% 42.0G/42.0G [36:41<00:00, 23.5MB/s]\n",
            "100% 42.0G/42.0G [36:41<00:00, 20.5MB/s]\n"
          ]
        }
      ],
      "source": [
        "! kaggle datasets download -d nih-chest-xrays/data"
      ]
    },
    {
      "cell_type": "code",
      "execution_count": null,
      "metadata": {
        "id": "Ps0jdOEia6sy"
      },
      "outputs": [],
      "source": [
        "!unzip /content/data.zip"
      ]
    },
    {
      "cell_type": "markdown",
      "metadata": {
        "id": "b6CV-NTCQzCW"
      },
      "source": [
        "Install libraries && Import\n"
      ]
    },
    {
      "cell_type": "code",
      "execution_count": null,
      "metadata": {
        "id": "SpWuvS62UBUL"
      },
      "outputs": [],
      "source": [
        "!pip install torchmetrics"
      ]
    },
    {
      "cell_type": "code",
      "execution_count": null,
      "metadata": {
        "id": "gu2ozvZERP6K"
      },
      "outputs": [],
      "source": [
        "import gc\n",
        "import numpy as np\n",
        "import pandas as pd\n",
        "import os\n",
        "import torch\n",
        "from torch import tensor\n",
        "from torch.utils.data import Dataset\n",
        "import pandas as pd\n",
        "from torchvision import datasets, transforms\n",
        "import torch.nn as nn\n",
        "import torch.optim as optim\n",
        "from torchvision.models import swin_t\n",
        "\n",
        "from tqdm import tqdm\n",
        "from torch.utils.data import DataLoader\n",
        "\n",
        "import matplotlib.pyplot as plt\n",
        "\n",
        "from torch import tensor\n",
        "from torchmetrics.classification import MulticlassAUROC,AUROC\n",
        "\n",
        "from PIL import Image\n",
        "import random\n",
        "import copy\n",
        "import csv"
      ]
    },
    {
      "cell_type": "code",
      "execution_count": null,
      "metadata": {
        "id": "kUZ6EaVmzRPz",
        "colab": {
          "base_uri": "https://localhost:8080/"
        },
        "outputId": "b5a51470-1af8-455f-8977-626a6268435b"
      },
      "outputs": [
        {
          "output_type": "stream",
          "name": "stdout",
          "text": [
            "Requirement already satisfied: torchvision in /usr/local/lib/python3.10/dist-packages (0.15.2+cu118)\n",
            "Requirement already satisfied: numpy in /usr/local/lib/python3.10/dist-packages (from torchvision) (1.23.5)\n",
            "Requirement already satisfied: requests in /usr/local/lib/python3.10/dist-packages (from torchvision) (2.31.0)\n",
            "Requirement already satisfied: torch==2.0.1 in /usr/local/lib/python3.10/dist-packages (from torchvision) (2.0.1+cu118)\n",
            "Requirement already satisfied: pillow!=8.3.*,>=5.3.0 in /usr/local/lib/python3.10/dist-packages (from torchvision) (9.4.0)\n",
            "Requirement already satisfied: filelock in /usr/local/lib/python3.10/dist-packages (from torch==2.0.1->torchvision) (3.12.2)\n",
            "Requirement already satisfied: typing-extensions in /usr/local/lib/python3.10/dist-packages (from torch==2.0.1->torchvision) (4.5.0)\n",
            "Requirement already satisfied: sympy in /usr/local/lib/python3.10/dist-packages (from torch==2.0.1->torchvision) (1.12)\n",
            "Requirement already satisfied: networkx in /usr/local/lib/python3.10/dist-packages (from torch==2.0.1->torchvision) (3.1)\n",
            "Requirement already satisfied: jinja2 in /usr/local/lib/python3.10/dist-packages (from torch==2.0.1->torchvision) (3.1.2)\n",
            "Requirement already satisfied: triton==2.0.0 in /usr/local/lib/python3.10/dist-packages (from torch==2.0.1->torchvision) (2.0.0)\n",
            "Requirement already satisfied: cmake in /usr/local/lib/python3.10/dist-packages (from triton==2.0.0->torch==2.0.1->torchvision) (3.27.4.1)\n",
            "Requirement already satisfied: lit in /usr/local/lib/python3.10/dist-packages (from triton==2.0.0->torch==2.0.1->torchvision) (16.0.6)\n",
            "Requirement already satisfied: charset-normalizer<4,>=2 in /usr/local/lib/python3.10/dist-packages (from requests->torchvision) (3.2.0)\n",
            "Requirement already satisfied: idna<4,>=2.5 in /usr/local/lib/python3.10/dist-packages (from requests->torchvision) (3.4)\n",
            "Requirement already satisfied: urllib3<3,>=1.21.1 in /usr/local/lib/python3.10/dist-packages (from requests->torchvision) (2.0.4)\n",
            "Requirement already satisfied: certifi>=2017.4.17 in /usr/local/lib/python3.10/dist-packages (from requests->torchvision) (2023.7.22)\n",
            "Requirement already satisfied: MarkupSafe>=2.0 in /usr/local/lib/python3.10/dist-packages (from jinja2->torch==2.0.1->torchvision) (2.1.3)\n",
            "Requirement already satisfied: mpmath>=0.19 in /usr/local/lib/python3.10/dist-packages (from sympy->torch==2.0.1->torchvision) (1.3.0)\n"
          ]
        }
      ],
      "source": [
        "!pip install torchvision"
      ]
    },
    {
      "cell_type": "code",
      "execution_count": null,
      "metadata": {
        "id": "xTQNSfmWK-VV",
        "colab": {
          "base_uri": "https://localhost:8080/"
        },
        "outputId": "38a8b0f6-565d-4366-f158-11006256e1f4"
      },
      "outputs": [
        {
          "output_type": "stream",
          "name": "stderr",
          "text": [
            "Downloading: \"https://download.pytorch.org/models/swin_b-68c6b09e.pth\" to /root/.cache/torch/hub/checkpoints/swin_b-68c6b09e.pth\n",
            "100%|██████████| 335M/335M [00:37<00:00, 9.27MB/s]\n"
          ]
        }
      ],
      "source": [
        "device = torch.device('cuda' if torch.cuda.is_available() else 'cpu')\n",
        "#model = swin_t()\n",
        "#model = swin_t(weights='DEFAULT') # weights='IMAGENET1K_V1'\n",
        "#model.head = torch.nn.Linear(out_features=14,in_features=768)\n",
        "\n",
        "from torchvision.models import swin_b as SwinTransformer\n",
        "model = SwinTransformer(weights='DEFAULT')\n",
        "model.head = torch.nn.Linear(out_features=14,in_features=1024)"
      ]
    },
    {
      "cell_type": "code",
      "source": [
        "model.head"
      ],
      "metadata": {
        "colab": {
          "base_uri": "https://localhost:8080/"
        },
        "id": "W8sMpC-f9v_B",
        "outputId": "2c8a9842-13d8-4c50-b9f7-373615d712c8"
      },
      "execution_count": null,
      "outputs": [
        {
          "output_type": "execute_result",
          "data": {
            "text/plain": [
              "Linear(in_features=1024, out_features=1000, bias=True)"
            ]
          },
          "metadata": {},
          "execution_count": 10
        }
      ]
    },
    {
      "cell_type": "code",
      "execution_count": null,
      "metadata": {
        "id": "1adZWwJRN94d",
        "colab": {
          "base_uri": "https://localhost:8080/"
        },
        "outputId": "edc7e99a-5c01-4178-c4e4-e940e44a991e"
      },
      "outputs": [
        {
          "output_type": "execute_result",
          "data": {
            "text/plain": [
              "Sequential(\n",
              "  (0): Linear(in_features=1024, out_features=512, bias=True)\n",
              "  (1): ReLU(inplace=True)\n",
              "  (2): Linear(in_features=512, out_features=14, bias=False)\n",
              ")"
            ]
          },
          "metadata": {},
          "execution_count": 11
        }
      ],
      "source": [
        "\n",
        "#model.head= nn.Sequential(\n",
        "#            nn.Linear(1024, 512, bias=True),\n",
        "#            nn.ReLU(inplace=True),\n",
        "#            nn.Linear(512, 14 ,bias=False)\n",
        "# )\n",
        "#model.head"
      ]
    },
    {
      "cell_type": "code",
      "execution_count": null,
      "metadata": {
        "id": "VsJI36srR0Ht"
      },
      "outputs": [],
      "source": [
        "\n",
        "model.to(device)\n",
        "criterion = nn.BCEWithLogitsLoss()\n",
        "optimizer = optim.Adam(model.parameters(), lr=1e-4)"
      ]
    },
    {
      "cell_type": "markdown",
      "metadata": {
        "id": "qaZ-z_nYTLU_"
      },
      "source": [
        "Train & Test functions"
      ]
    },
    {
      "cell_type": "code",
      "execution_count": null,
      "metadata": {
        "id": "NF184UBhTPmy"
      },
      "outputs": [],
      "source": [
        "def train_one_epoch(train_dataloader):\n",
        "\n",
        "    model.train()\n",
        "    running_loss = 0.0\n",
        "    for images, labels in tqdm(train_dataloader):\n",
        "\n",
        "        images = images.to(device)\n",
        "        labels = labels.to(device)\n",
        "        optimizer.zero_grad()\n",
        "        outputs = model(images)\n",
        "        loss = criterion(outputs, labels)\n",
        "        loss.backward()\n",
        "        optimizer.step()\n",
        "        running_loss += loss.item() * images.size(0)\n",
        "\n",
        "    return np.mean(running_loss)\n",
        "\n",
        "def val_one_epoch(val_dataloader):\n",
        "\n",
        "    model.eval()\n",
        "    running_loss = 0.0\n",
        "\n",
        "    for images, labels in tqdm(test_dataloader):\n",
        "\n",
        "        images = images.to(device)\n",
        "        labels = labels.to(device)\n",
        "        outputs = model(images)\n",
        "        loss = criterion(outputs, labels)\n",
        "        running_loss += loss.item()\n",
        "\n",
        "    return np.mean(running_loss) ;\n"
      ]
    },
    {
      "cell_type": "markdown",
      "metadata": {
        "id": "FvPR5gJSVRLR"
      },
      "source": [
        "Read data:"
      ]
    },
    {
      "cell_type": "code",
      "execution_count": null,
      "metadata": {
        "id": "LN8_u6puTuz-"
      },
      "outputs": [],
      "source": [
        "from torchvision.utils import save_image\n",
        "\n",
        "class ChestXray14Dataset(Dataset):\n",
        "\n",
        "  def __init__(self, images_path, file_path, num_class=14,transform=None, augment = None):\n",
        "\n",
        "    self.img_list = []\n",
        "    self.img_label = []\n",
        "    self.augment = augment\n",
        "    self.transform =transform\n",
        "\n",
        "    with open(file_path, \"r\") as fileDescriptor:\n",
        "      line = True\n",
        "\n",
        "      while line:\n",
        "        line = fileDescriptor.readline()\n",
        "\n",
        "        if line:\n",
        "          lineItems = line.split()\n",
        "\n",
        "          imageLabel = lineItems[1:num_class + 1]\n",
        "          imageLabel = [int(i) for i in imageLabel]\n",
        "\n",
        "          for i in range (1,2):\n",
        "            imagePath = os.path.join(images_path,f'images_00{i}/images/',lineItems[0])\n",
        "\n",
        "            if os.path.isfile(imagePath):\n",
        "\n",
        "              self.img_list.append(imagePath)\n",
        "              self.img_label.append(imageLabel)\n",
        "\n",
        "              if self.augment != None:\n",
        "\n",
        "                imageData = Image.open(imagePath).convert('RGB')\n",
        "                imageData = self.augment(imageData)\n",
        "\n",
        "                #imagePath_transfered = os.path.join(images_path,f'images_00{i}/images_transfered/')\n",
        "                #if not(os.path.isdir(imagePath_transfered)):\n",
        "                #    os.mkdir(imagePath_transfered)\n",
        "\n",
        "                imagePath_transfered= os.path.join(images_path,f'images_00{i}/images/','t_' + lineItems[0])\n",
        "                save_image(imageData,imagePath_transfered)\n",
        "\n",
        "                self.img_list.append(imagePath_transfered)\n",
        "                self.img_label.append(imageLabel)\n",
        "\n",
        "  def __getitem__(self, index):\n",
        "\n",
        "    imagePath = self.img_list[index]\n",
        "    imageData = Image.open(imagePath).convert('RGB')\n",
        "\n",
        "    if self.transform != None: imageData = self.transform(imageData)\n",
        "\n",
        "    imageLabel = torch.FloatTensor(self.img_label[index])\n",
        "\n",
        "    return imageData, imageLabel\n",
        "\n",
        "  def __len__(self):\n",
        "\n",
        "    return len(self.img_list)\n"
      ]
    },
    {
      "cell_type": "code",
      "execution_count": null,
      "metadata": {
        "id": "GCJ86tIlVLRG"
      },
      "outputs": [],
      "source": [
        "data_dir = '/content/drive/MyDrive'\n",
        "data_dir =  '/content'\n",
        "\n",
        "train_list = os.path.join(data_dir,'Xray14_train_official.txt')\n",
        "test_list = os.path.join(data_dir,'Xray14_test_official.txt')\n",
        "val_list = os.path.join(data_dir,'Xray14_val_official.txt')\n",
        "\n",
        "outputs_path = \"/content/drive/MyDrive/Outputs\"\n",
        "model_path = \"/content/drive/MyDrive/Outputs/Models\"\n"
      ]
    },
    {
      "cell_type": "code",
      "execution_count": null,
      "metadata": {
        "colab": {
          "base_uri": "https://localhost:8080/"
        },
        "id": "om2KSGR4f8dx",
        "outputId": "c2108ef0-9ce1-47d9-cd1e-f75425ba9ae8"
      },
      "outputs": [
        {
          "output_type": "execute_result",
          "data": {
            "text/plain": [
              "9"
            ]
          },
          "metadata": {},
          "execution_count": 16
        }
      ],
      "source": [
        "torch.cuda.empty_cache()\n",
        "gc.collect()"
      ]
    },
    {
      "cell_type": "markdown",
      "metadata": {
        "id": "TTY1-SGqXyih"
      },
      "source": [
        "Read list of images and their address...\n",
        "\n",
        "Create tarin and val and test datasets..."
      ]
    },
    {
      "cell_type": "code",
      "execution_count": null,
      "metadata": {
        "colab": {
          "base_uri": "https://localhost:8080/"
        },
        "id": "sOfAi554XxQg",
        "outputId": "f816558a-58e4-4b4c-d3ea-b38fb194d0ea"
      },
      "outputs": [
        {
          "output_type": "stream",
          "name": "stdout",
          "text": [
            "length of train_dataset : 116900\n"
          ]
        }
      ],
      "source": [
        "augment_train = transforms.Compose([\n",
        "\n",
        "     transforms.GaussianBlur(kernel_size=(11,11), sigma=(0.05, 2)),\n",
        "     transforms.ColorJitter(brightness=1, contrast=1, saturation=1),\n",
        "     transforms.RandomRotation(degrees=10),\n",
        "     transforms.RandomHorizontalFlip(p=0.5),\n",
        "     transforms.ToTensor()\n",
        "    ])\n",
        "\n",
        "transform = transforms.Compose([\n",
        "     transforms.Resize((224, 224)),\n",
        "     transforms.ToTensor(),\n",
        "     transforms.Normalize(mean=[0.485, 0.456, 0.406],\n",
        "                         std=[0.229, 0.224, 0.225])\n",
        "    ])\n",
        "\n",
        "dataset_train = ChestXray14Dataset(images_path= data_dir, file_path= train_list, transform= transform, augment= augment_train)\n",
        "\n",
        "print('length of train_dataset :' , len(dataset_train))"
      ]
    },
    {
      "cell_type": "code",
      "source": [
        "batch_size =32\n",
        "train_dataloader = DataLoader(dataset_train, batch_size= batch_size, shuffle=True, num_workers=8)"
      ],
      "metadata": {
        "id": "r1OQ2Lw4LD9g"
      },
      "execution_count": null,
      "outputs": []
    },
    {
      "cell_type": "code",
      "execution_count": null,
      "metadata": {
        "id": "jj2PymJUYmqK",
        "colab": {
          "base_uri": "https://localhost:8080/"
        },
        "outputId": "83010c75-4346-431b-9a18-45df6d0b8470"
      },
      "outputs": [
        {
          "output_type": "stream",
          "name": "stdout",
          "text": [
            "length of val_dataset : 8641\n",
            "length of test_dataset : 17908\n"
          ]
        }
      ],
      "source": [
        "\n",
        "\n",
        "dataset_val   = ChestXray14Dataset(images_path= data_dir, file_path= val_list, transform= transform , augment=None)\n",
        "dataset_test  = ChestXray14Dataset(images_path= data_dir, file_path= test_list, transform= transform, augment=None)\n",
        "\n",
        "print('length of val_dataset :' , len(dataset_val))\n",
        "print('length of test_dataset :' , len(dataset_test))\n",
        "\n",
        "val_dataloader   = DataLoader(dataset_val, batch_size= batch_size, shuffle=False, num_workers=8)\n",
        "test_dataloader  = DataLoader(dataset_test, batch_size= batch_size, shuffle=False, num_workers=8)"
      ]
    },
    {
      "cell_type": "markdown",
      "metadata": {
        "id": "Fus5UQ7_ala2"
      },
      "source": [
        "Train a Swin Transformer from scratch on NIH Chest X-rays"
      ]
    },
    {
      "cell_type": "code",
      "execution_count": null,
      "metadata": {
        "colab": {
          "base_uri": "https://localhost:8080/",
          "height": 407
        },
        "id": "3O7t2_JgkoEN",
        "outputId": "99653cf9-7bf1-444d-9499-502a7afdad8c"
      },
      "outputs": [
        {
          "output_type": "stream",
          "name": "stderr",
          "text": [
            "  0%|          | 0/3654 [00:10<?, ?it/s]\n"
          ]
        },
        {
          "output_type": "error",
          "ename": "RuntimeError",
          "evalue": "ignored",
          "traceback": [
            "\u001b[0;31m---------------------------------------------------------------------------\u001b[0m",
            "\u001b[0;31mRuntimeError\u001b[0m                              Traceback (most recent call last)",
            "\u001b[0;32m<ipython-input-19-6d8a9a93df3a>\u001b[0m in \u001b[0;36m<cell line: 7>\u001b[0;34m()\u001b[0m\n\u001b[1;32m      7\u001b[0m \u001b[0;32mfor\u001b[0m \u001b[0mepoch\u001b[0m \u001b[0;32min\u001b[0m \u001b[0mrange\u001b[0m\u001b[0;34m(\u001b[0m\u001b[0mnum_epochs\u001b[0m\u001b[0;34m)\u001b[0m\u001b[0;34m:\u001b[0m\u001b[0;34m\u001b[0m\u001b[0;34m\u001b[0m\u001b[0m\n\u001b[1;32m      8\u001b[0m    \u001b[0;32mwith\u001b[0m \u001b[0mtorch\u001b[0m\u001b[0;34m.\u001b[0m\u001b[0mno_grad\u001b[0m\u001b[0;34m(\u001b[0m\u001b[0;34m)\u001b[0m\u001b[0;34m:\u001b[0m\u001b[0;34m\u001b[0m\u001b[0;34m\u001b[0m\u001b[0m\n\u001b[0;32m----> 9\u001b[0;31m     \u001b[0mloss\u001b[0m \u001b[0;34m=\u001b[0m \u001b[0mtrain_one_epoch\u001b[0m\u001b[0;34m(\u001b[0m\u001b[0mtrain_dataloader\u001b[0m\u001b[0;34m)\u001b[0m\u001b[0;34m\u001b[0m\u001b[0;34m\u001b[0m\u001b[0m\n\u001b[0m\u001b[1;32m     10\u001b[0m     \u001b[0mtrain_epoch_loss\u001b[0m \u001b[0;34m=\u001b[0m \u001b[0mloss\u001b[0m\u001b[0;34m/\u001b[0m\u001b[0mlen\u001b[0m\u001b[0;34m(\u001b[0m\u001b[0mdataset_train\u001b[0m\u001b[0;34m)\u001b[0m\u001b[0;34m\u001b[0m\u001b[0;34m\u001b[0m\u001b[0m\n\u001b[1;32m     11\u001b[0m     \u001b[0mtrain_losses\u001b[0m\u001b[0;34m.\u001b[0m\u001b[0mappend\u001b[0m\u001b[0;34m(\u001b[0m\u001b[0mtrain_epoch_loss\u001b[0m\u001b[0;34m)\u001b[0m\u001b[0;34m\u001b[0m\u001b[0;34m\u001b[0m\u001b[0m\n",
            "\u001b[0;32m<ipython-input-13-58f6c04a0be1>\u001b[0m in \u001b[0;36mtrain_one_epoch\u001b[0;34m(train_dataloader)\u001b[0m\n\u001b[1;32m     10\u001b[0m         \u001b[0moutputs\u001b[0m \u001b[0;34m=\u001b[0m \u001b[0mmodel\u001b[0m\u001b[0;34m(\u001b[0m\u001b[0mimages\u001b[0m\u001b[0;34m)\u001b[0m\u001b[0;34m\u001b[0m\u001b[0;34m\u001b[0m\u001b[0m\n\u001b[1;32m     11\u001b[0m         \u001b[0mloss\u001b[0m \u001b[0;34m=\u001b[0m \u001b[0mcriterion\u001b[0m\u001b[0;34m(\u001b[0m\u001b[0moutputs\u001b[0m\u001b[0;34m,\u001b[0m \u001b[0mlabels\u001b[0m\u001b[0;34m)\u001b[0m\u001b[0;34m\u001b[0m\u001b[0;34m\u001b[0m\u001b[0m\n\u001b[0;32m---> 12\u001b[0;31m         \u001b[0mloss\u001b[0m\u001b[0;34m.\u001b[0m\u001b[0mbackward\u001b[0m\u001b[0;34m(\u001b[0m\u001b[0;34m)\u001b[0m\u001b[0;34m\u001b[0m\u001b[0;34m\u001b[0m\u001b[0m\n\u001b[0m\u001b[1;32m     13\u001b[0m         \u001b[0moptimizer\u001b[0m\u001b[0;34m.\u001b[0m\u001b[0mstep\u001b[0m\u001b[0;34m(\u001b[0m\u001b[0;34m)\u001b[0m\u001b[0;34m\u001b[0m\u001b[0;34m\u001b[0m\u001b[0m\n\u001b[1;32m     14\u001b[0m         \u001b[0mrunning_loss\u001b[0m \u001b[0;34m+=\u001b[0m \u001b[0mloss\u001b[0m\u001b[0;34m.\u001b[0m\u001b[0mitem\u001b[0m\u001b[0;34m(\u001b[0m\u001b[0;34m)\u001b[0m \u001b[0;34m*\u001b[0m \u001b[0mimages\u001b[0m\u001b[0;34m.\u001b[0m\u001b[0msize\u001b[0m\u001b[0;34m(\u001b[0m\u001b[0;36m0\u001b[0m\u001b[0;34m)\u001b[0m\u001b[0;34m\u001b[0m\u001b[0;34m\u001b[0m\u001b[0m\n",
            "\u001b[0;32m/usr/local/lib/python3.10/dist-packages/torch/_tensor.py\u001b[0m in \u001b[0;36mbackward\u001b[0;34m(self, gradient, retain_graph, create_graph, inputs)\u001b[0m\n\u001b[1;32m    485\u001b[0m                 \u001b[0minputs\u001b[0m\u001b[0;34m=\u001b[0m\u001b[0minputs\u001b[0m\u001b[0;34m,\u001b[0m\u001b[0;34m\u001b[0m\u001b[0;34m\u001b[0m\u001b[0m\n\u001b[1;32m    486\u001b[0m             )\n\u001b[0;32m--> 487\u001b[0;31m         torch.autograd.backward(\n\u001b[0m\u001b[1;32m    488\u001b[0m             \u001b[0mself\u001b[0m\u001b[0;34m,\u001b[0m \u001b[0mgradient\u001b[0m\u001b[0;34m,\u001b[0m \u001b[0mretain_graph\u001b[0m\u001b[0;34m,\u001b[0m \u001b[0mcreate_graph\u001b[0m\u001b[0;34m,\u001b[0m \u001b[0minputs\u001b[0m\u001b[0;34m=\u001b[0m\u001b[0minputs\u001b[0m\u001b[0;34m\u001b[0m\u001b[0;34m\u001b[0m\u001b[0m\n\u001b[1;32m    489\u001b[0m         )\n",
            "\u001b[0;32m/usr/local/lib/python3.10/dist-packages/torch/autograd/__init__.py\u001b[0m in \u001b[0;36mbackward\u001b[0;34m(tensors, grad_tensors, retain_graph, create_graph, grad_variables, inputs)\u001b[0m\n\u001b[1;32m    198\u001b[0m     \u001b[0;31m# some Python versions print out the first line of a multi-line function\u001b[0m\u001b[0;34m\u001b[0m\u001b[0;34m\u001b[0m\u001b[0m\n\u001b[1;32m    199\u001b[0m     \u001b[0;31m# calls in the traceback and some print out the last line\u001b[0m\u001b[0;34m\u001b[0m\u001b[0;34m\u001b[0m\u001b[0m\n\u001b[0;32m--> 200\u001b[0;31m     Variable._execution_engine.run_backward(  # Calls into the C++ engine to run the backward pass\n\u001b[0m\u001b[1;32m    201\u001b[0m         \u001b[0mtensors\u001b[0m\u001b[0;34m,\u001b[0m \u001b[0mgrad_tensors_\u001b[0m\u001b[0;34m,\u001b[0m \u001b[0mretain_graph\u001b[0m\u001b[0;34m,\u001b[0m \u001b[0mcreate_graph\u001b[0m\u001b[0;34m,\u001b[0m \u001b[0minputs\u001b[0m\u001b[0;34m,\u001b[0m\u001b[0;34m\u001b[0m\u001b[0;34m\u001b[0m\u001b[0m\n\u001b[1;32m    202\u001b[0m         allow_unreachable=True, accumulate_grad=True)  # Calls into the C++ engine to run the backward pass\n",
            "\u001b[0;31mRuntimeError\u001b[0m: element 0 of tensors does not require grad and does not have a grad_fn"
          ]
        }
      ],
      "source": [
        "num_epochs = 1;\n",
        "train_losses = []; val_losses = [];\n",
        "\n",
        "log_train_per_epoch = log_val_per_epoch = ''\n",
        "#-------------------------------------------------------------------------------------\n",
        "\n",
        "for epoch in range(num_epochs):\n",
        "   with torch.no_grad():\n",
        "    loss = train_one_epoch(train_dataloader)\n",
        "    train_epoch_loss = loss/len(dataset_train)\n",
        "    train_losses.append(train_epoch_loss)\n",
        "\n",
        "    log_train_per_epoch = log_train_per_epoch + str(epoch+1) + '\\t' + str(train_epoch_loss) +'\\n'\n",
        "    print('epoch {0:>2d}, avg tarain loss {1}'.format(epoch+1, train_epoch_loss))\n",
        "    #-------------------------------------------------------------------------------------\n",
        "\n",
        "    with torch.no_grad():\n",
        "\n",
        "        loss = val_one_epoch(val_dataloader)\n",
        "\n",
        "        val_epoch_loss = loss/len(dataset_val)\n",
        "        val_losses.append(val_epoch_loss)\n",
        "\n",
        "        log_val_per_epoch = log_val_per_epoch + str(epoch+1) + '\\t'+ str(val_epoch_loss) +'\\n'\n",
        "        print('epoch {0:>2d}, avg val loss {1}'.format(epoch+1, val_epoch_loss))\n",
        "\n"
      ]
    },
    {
      "cell_type": "code",
      "execution_count": null,
      "metadata": {
        "id": "Lm8B6hTlo6Er"
      },
      "outputs": [],
      "source": [
        "def write_logg(log_file_path, log_file_name, log_message):\n",
        "\n",
        "    path = os.path.join(log_file_path, log_file_name)\n",
        "    file_object  = open(path, 'w+')\n",
        "    file_object.write(log_message)\n",
        "    file_object.close()"
      ]
    },
    {
      "cell_type": "code",
      "execution_count": null,
      "metadata": {
        "id": "cuvq7u09ohKl"
      },
      "outputs": [],
      "source": [
        "write_logg(model_path,\"myswinfromscratch_train.txt\", log_train_per_epoch)\n",
        "write_logg(model_path,\"myswinfromscratch_val.txt\", log_val_per_epoch)\n"
      ]
    },
    {
      "cell_type": "code",
      "execution_count": null,
      "metadata": {
        "id": "wYmgehOTcdRu"
      },
      "outputs": [],
      "source": [
        "write_logg(model_path,\"myswin_b3_pretrained_train.txt\", log_train_per_epoch)\n",
        "write_logg(model_path,\"myswin_b3_pretrained_val.txt\", log_val_per_epoch)\n",
        "\n",
        "model_name = \"pretrained_swin_b3_model\"\n",
        "torch.save(model.state_dict(), os.path.join(model_path,model_name))"
      ]
    },
    {
      "cell_type": "code",
      "execution_count": null,
      "metadata": {
        "id": "pxBfiTocookM"
      },
      "outputs": [],
      "source": [
        "model_name = \"swin_from_scratch_model\"\n",
        "torch.save(model.state_dict(), os.path.join(model_path,model_name))"
      ]
    },
    {
      "cell_type": "markdown",
      "metadata": {
        "id": "iN7F7mMFpA3C"
      },
      "source": [
        "Test Swin transformer from scratch"
      ]
    },
    {
      "cell_type": "code",
      "execution_count": null,
      "metadata": {
        "id": "TTgenFILXd3p"
      },
      "outputs": [],
      "source": [
        "from sklearn.metrics import roc_auc_score\n",
        "def compute_AUCs(gt, pred):\n",
        "    \"\"\"Computes Area Under the Curve (AUC) from prediction scores.\n",
        "    Args:\n",
        "        gt: Pytorch tensor on GPU, shape = [n_samples, n_classes]\n",
        "          true binary labels.\n",
        "        pred: Pytorch tensor on GPU, shape = [n_samples, n_classes]\n",
        "          can either be probability estimates of the positive class,\n",
        "          confidence values, or binary decisions.\n",
        "    Returns:\n",
        "        List of AUROCs of all classes.\n",
        "    \"\"\"\n",
        "    AUROCs = []\n",
        "    gt_np = gt.cpu().numpy()\n",
        "    pred_np = pred.cpu().numpy()\n",
        "    for i in range(14):\n",
        "        AUROCs.append(roc_auc_score(gt_np[:, i], pred_np[:, i]))\n",
        "    return AUROCs"
      ]
    },
    {
      "cell_type": "code",
      "execution_count": null,
      "metadata": {
        "colab": {
          "base_uri": "https://localhost:8080/"
        },
        "id": "yvrWw1B6TEKx",
        "outputId": "6e845bf5-1eb2-43af-9701-73a8af8e8d2c"
      },
      "outputs": [
        {
          "data": {
            "text/plain": [
              "0"
            ]
          },
          "execution_count": 23,
          "metadata": {},
          "output_type": "execute_result"
        }
      ],
      "source": [
        "gc.collect()"
      ]
    },
    {
      "cell_type": "code",
      "execution_count": null,
      "metadata": {
        "colab": {
          "base_uri": "https://localhost:8080/",
          "height": 1000
        },
        "id": "d_EVACFbYwGM",
        "outputId": "fad0f55b-2ff7-4f51-8bb4-0240ab55b777"
      },
      "outputs": [
        {
          "output_type": "stream",
          "name": "stdout",
          "text": [
            "Epoch 1 : \n",
            "\n",
            "The average AUROC is 0.791\n",
            "The AUROC of Atelectasis is 0.7605820430104788\n",
            "The AUROC of Cardiomegaly is 0.8823016905531722\n",
            "The AUROC of Effusion is 0.8082135115423965\n",
            "The AUROC of Infiltration is 0.6937837922389901\n",
            "The AUROC of Mass is 0.803323745759996\n",
            "The AUROC of Nodule is 0.7244201693179063\n",
            "The AUROC of Pneumonia is 0.6784223409384988\n",
            "The AUROC of Pneumothorax is 0.8526866923381669\n",
            "The AUROC of Consolidation is 0.7348462579633869\n",
            "The AUROC of Edema is 0.8261954782429362\n",
            "The AUROC of Emphysema is 0.8741686625643018\n",
            "The AUROC of Fibrosis is 0.8042429105911745\n",
            "The AUROC of Pleural_Thickening is 0.757329396664795\n",
            "The AUROC of Hernia is 0.8751231801406347\n",
            "--------------------------------------------------------------------\n",
            "Epoch 2 : \n",
            "\n",
            "The average AUROC is 0.791\n",
            "The AUROC of Atelectasis is 0.7605127006272681\n",
            "The AUROC of Cardiomegaly is 0.8838436064090807\n",
            "The AUROC of Effusion is 0.8072608037978317\n",
            "The AUROC of Infiltration is 0.6944628721893327\n",
            "The AUROC of Mass is 0.8055097319792736\n",
            "The AUROC of Nodule is 0.7217074477884539\n",
            "The AUROC of Pneumonia is 0.6820078071191612\n",
            "The AUROC of Pneumothorax is 0.8518368746225614\n",
            "The AUROC of Consolidation is 0.7353569552506327\n",
            "The AUROC of Edema is 0.8265504955851954\n",
            "The AUROC of Emphysema is 0.8743141169452849\n",
            "The AUROC of Fibrosis is 0.8052584098525067\n",
            "The AUROC of Pleural_Thickening is 0.7558917011715953\n",
            "The AUROC of Hernia is 0.870425629150009\n",
            "--------------------------------------------------------------------\n",
            "Epoch 3 : \n",
            "\n",
            "The average AUROC is 0.791\n",
            "The AUROC of Atelectasis is 0.7597419820671278\n",
            "The AUROC of Cardiomegaly is 0.8839481725396338\n",
            "The AUROC of Effusion is 0.8072926432581098\n",
            "The AUROC of Infiltration is 0.6944852613302974\n",
            "The AUROC of Mass is 0.807284588668396\n",
            "The AUROC of Nodule is 0.7221352993409891\n",
            "The AUROC of Pneumonia is 0.6831076430345845\n",
            "The AUROC of Pneumothorax is 0.851684424569165\n",
            "The AUROC of Consolidation is 0.7367094653258416\n",
            "The AUROC of Edema is 0.827264056258258\n",
            "The AUROC of Emphysema is 0.8751361987122671\n",
            "The AUROC of Fibrosis is 0.8053685531720676\n",
            "The AUROC of Pleural_Thickening is 0.7562822514843213\n",
            "The AUROC of Hernia is 0.8681640729176934\n",
            "--------------------------------------------------------------------\n",
            "Epoch 4 : \n",
            "\n"
          ]
        },
        {
          "output_type": "error",
          "ename": "KeyboardInterrupt",
          "evalue": "ignored",
          "traceback": [
            "\u001b[0;31m---------------------------------------------------------------------------\u001b[0m",
            "\u001b[0;31mKeyboardInterrupt\u001b[0m                         Traceback (most recent call last)",
            "\u001b[0;32m<ipython-input-32-f94630fa3d97>\u001b[0m in \u001b[0;36m<cell line: 9>\u001b[0;34m()\u001b[0m\n\u001b[1;32m     10\u001b[0m      \u001b[0mprint\u001b[0m\u001b[0;34m(\u001b[0m\u001b[0;34m'Epoch {0} : \\n'\u001b[0m\u001b[0;34m.\u001b[0m\u001b[0mformat\u001b[0m\u001b[0;34m(\u001b[0m\u001b[0mepoch\u001b[0m\u001b[0;34m+\u001b[0m\u001b[0;36m1\u001b[0m\u001b[0;34m)\u001b[0m\u001b[0;34m)\u001b[0m\u001b[0;34m\u001b[0m\u001b[0;34m\u001b[0m\u001b[0m\n\u001b[1;32m     11\u001b[0m      \u001b[0;32mfor\u001b[0m \u001b[0mi\u001b[0m\u001b[0;34m,\u001b[0m \u001b[0;34m(\u001b[0m\u001b[0minp\u001b[0m\u001b[0;34m,\u001b[0m \u001b[0mtarget\u001b[0m\u001b[0;34m)\u001b[0m \u001b[0;32min\u001b[0m \u001b[0menumerate\u001b[0m\u001b[0;34m(\u001b[0m\u001b[0mtest_dataloader\u001b[0m\u001b[0;34m)\u001b[0m\u001b[0;34m:\u001b[0m\u001b[0;34m\u001b[0m\u001b[0;34m\u001b[0m\u001b[0m\n\u001b[0;32m---> 12\u001b[0;31m         \u001b[0mtarget\u001b[0m \u001b[0;34m=\u001b[0m \u001b[0mtarget\u001b[0m\u001b[0;34m.\u001b[0m\u001b[0mcuda\u001b[0m\u001b[0;34m(\u001b[0m\u001b[0;34m)\u001b[0m\u001b[0;34m\u001b[0m\u001b[0;34m\u001b[0m\u001b[0m\n\u001b[0m\u001b[1;32m     13\u001b[0m         \u001b[0mgt\u001b[0m \u001b[0;34m=\u001b[0m \u001b[0mtorch\u001b[0m\u001b[0;34m.\u001b[0m\u001b[0mcat\u001b[0m\u001b[0;34m(\u001b[0m\u001b[0;34m(\u001b[0m\u001b[0mgt\u001b[0m\u001b[0;34m,\u001b[0m \u001b[0mtarget\u001b[0m\u001b[0;34m)\u001b[0m\u001b[0;34m,\u001b[0m \u001b[0;36m0\u001b[0m\u001b[0;34m)\u001b[0m\u001b[0;34m\u001b[0m\u001b[0;34m\u001b[0m\u001b[0m\n\u001b[1;32m     14\u001b[0m \u001b[0;34m\u001b[0m\u001b[0m\n",
            "\u001b[0;31mKeyboardInterrupt\u001b[0m: "
          ]
        }
      ],
      "source": [
        "\n",
        "N_CLASSES = 14\n",
        "CLASS_NAMES = [ 'Atelectasis', 'Cardiomegaly', 'Effusion', 'Infiltration', 'Mass', 'Nodule', 'Pneumonia',\n",
        "                'Pneumothorax', 'Consolidation', 'Edema', 'Emphysema', 'Fibrosis', 'Pleural_Thickening', 'Hernia']\n",
        "gt = torch.FloatTensor()\n",
        "gt = gt.cuda()\n",
        "pred = torch.FloatTensor()\n",
        "pred = pred.cuda()\n",
        "\n",
        "for epoch in range(num_epochs):\n",
        "     print('Epoch {0} : \\n'.format(epoch+1))\n",
        "     for i, (inp, target) in enumerate(test_dataloader):\n",
        "        target = target.cuda()\n",
        "        gt = torch.cat((gt, target), 0)\n",
        "\n",
        "        #bs, n_crops, c, h, w = inp.size()\n",
        "        bs, c, h, w = inp.size()\n",
        "        n_crops = 1\n",
        "        with torch.no_grad():\n",
        "          input_var = torch.autograd.Variable(inp.view(-1, c, h, w).cuda())\n",
        "          output = model(inp.view(-1, c, h, w).cuda())\n",
        "          output_mean = output.view(bs, n_crops ,-1).mean(1)\n",
        "\n",
        "          pred = torch.cat((pred, output_mean.data.cuda()), 0)\n",
        "\n",
        "     AUROCs = compute_AUCs(gt, pred)\n",
        "     AUROC_avg = np.array(AUROCs).mean()\n",
        "     print('The average AUROC is {AUROC_avg:.3f}'.format(AUROC_avg=AUROC_avg))\n",
        "     for i in range(N_CLASSES):\n",
        "        print('The AUROC of {} is {}'.format(CLASS_NAMES[i], AUROCs[i]))\n",
        "     print('--------------------------------------------------------------------')"
      ]
    },
    {
      "cell_type": "code",
      "execution_count": null,
      "metadata": {
        "colab": {
          "base_uri": "https://localhost:8080/"
        },
        "id": "dv58aqHH-pOq",
        "outputId": "e7fbd0b9-aac8-4c85-8fa4-29542ff5a7a3"
      },
      "outputs": [
        {
          "name": "stdout",
          "output_type": "stream",
          "text": [
            "Test statistic: 790.1384803829117\n",
            "p-value: 2.5524820238309074e-42\n",
            "Test statistic (U): 100.0\n",
            "p-value: 6.386444750436982e-05\n"
          ]
        }
      ],
      "source": [
        "#  https://machinelearningmastery.com/use-statistical-significance-tests-interpret-machine-learning-results/\n",
        "\n",
        "import scipy.stats as stats\n",
        "\n",
        "# Collect data\n",
        "scratch_scores= [0.641, 0.640,0.640,0.640,0.640,0.641,0.641,0.641,0.641,0.641]\n",
        "pretrained_scores = [0.791,0.792,0.792,0.792,0.792,0.792,0.792,0.792,0.792,0.792]\n",
        "\n",
        "# Perform t-test\n",
        "t_statistic, p_value = stats.ttest_ind(pretrained_scores, scratch_scores)\n",
        "\n",
        "print(\"Test statistic:\", t_statistic)\n",
        "print(\"p-value:\", p_value)\n",
        "\n",
        "\n",
        "import scipy.stats as stats\n",
        "\n",
        "\n",
        "# Perform Mann-Whitney U test\n",
        "u_statistic, p_value = stats.mannwhitneyu(pretrained_scores, scratch_scores)\n",
        "\n",
        "print(\"Test statistic (U):\", u_statistic)\n",
        "print(\"p-value:\", p_value)\n"
      ]
    },
    {
      "cell_type": "code",
      "execution_count": null,
      "metadata": {
        "colab": {
          "base_uri": "https://localhost:8080/"
        },
        "id": "3tRi-3RssMp3",
        "outputId": "13cb9d93-9b72-494d-a91a-a76c6dfed528"
      },
      "outputs": [
        {
          "name": "stdout",
          "output_type": "stream",
          "text": [
            "Test statistic: 790.1384803829117\n",
            "p-value: 0.000000000000000\n"
          ]
        }
      ],
      "source": [
        "import scipy.stats as stats\n",
        "# Perform t-test\n",
        "t_statistic, p_value = stats.ttest_ind(pretrained_scores, scratch_scores)\n",
        "\n",
        "print(\"Test statistic:\", t_statistic)\n",
        "print(\"p-value: {:.15f}\".format(float(p_value)))"
      ]
    },
    {
      "cell_type": "code",
      "execution_count": null,
      "metadata": {
        "colab": {
          "base_uri": "https://localhost:8080/"
        },
        "id": "2X4ACv-JsV69",
        "outputId": "3e3df3f6-f192-4ef7-e17a-5ba74c9b8cc0"
      },
      "outputs": [
        {
          "name": "stdout",
          "output_type": "stream",
          "text": [
            "Test statistic (U): 100.0\n",
            "p-value: 0.000063864447504\n"
          ]
        }
      ],
      "source": [
        "# Perform Mann-Whitney U test\n",
        "u_statistic, p_value = stats.mannwhitneyu(pretrained_scores, scratch_scores)\n",
        "\n",
        "print(\"Test statistic (U):\", u_statistic)\n",
        "print(\"p-value: {:.15f}\".format(float(p_value)))"
      ]
    },
    {
      "cell_type": "code",
      "execution_count": null,
      "metadata": {
        "id": "VqkXYeaPLvMb"
      },
      "outputs": [],
      "source": [
        "import os\n",
        "import sys\n",
        "\n",
        "def write_logg(log_file_path, log_file_name, log_message):\n",
        "\n",
        "    path = os.path.join(log_file_path, log_file_name)\n",
        "    file_object  = open(path, 'w+')\n",
        "    file_object.write(log_message)\n",
        "    file_object.close()\n",
        "\n",
        "def read_logg(log_file_path, log_file_name):\n",
        "    path = os.path.join(log_file_path, log_file_name)\n",
        "    file_object  = open(path, 'r')\n",
        "    return file_object.read()\n",
        "\n",
        "def read_one_line_logg(log_file_path, log_file_name , line_index = 0):\n",
        "    path = os.path.join(log_file_path, log_file_name)\n",
        "    file_object  = open(path, 'r')\n",
        "    lines = file_object.readlines()\n",
        "    return lines[line_index]\n"
      ]
    },
    {
      "cell_type": "code",
      "execution_count": null,
      "metadata": {
        "id": "CDyfUI2Wmm71"
      },
      "outputs": [],
      "source": [
        "myswinfromscratchmodel = model"
      ]
    },
    {
      "cell_type": "code",
      "execution_count": null,
      "metadata": {
        "colab": {
          "base_uri": "https://localhost:8080/",
          "height": 448
        },
        "id": "lCfeCsusnd6j",
        "outputId": "a99d8719-a5b5-440b-ddfb-2beadb9cbd29"
      },
      "outputs": [
        {
          "data": {
            "text/plain": [
              "<function matplotlib.pyplot.show(close=None, block=None)>"
            ]
          },
          "execution_count": 118,
          "metadata": {},
          "output_type": "execute_result"
        },
        {
          "data": {
            "image/png": "[encoded data removed]",
            "text/plain": [
              "<Figure size 640x480 with 1 Axes>"
            ]
          },
          "metadata": {},
          "output_type": "display_data"
        }
      ],
      "source": [
        "plt.plot(train_losses, label='Train_loss')\n",
        "plt.plot(val_losses,label='Val_loss')\n",
        "plt.legend()\n",
        "plt.show"
      ]
    },
    {
      "cell_type": "code",
      "execution_count": null,
      "metadata": {
        "id": "W9VNQyMSnACU"
      },
      "outputs": [],
      "source": [
        "mypretrainedswinmodel = model"
      ]
    },
    {
      "cell_type": "markdown",
      "metadata": {
        "id": "DaBkZLSJk3Ii"
      },
      "source": [
        "lets compaire two models by computing the p-value"
      ]
    },
    {
      "cell_type": "code",
      "execution_count": null,
      "metadata": {
        "colab": {
          "base_uri": "https://localhost:8080/"
        },
        "id": "yEx_43UX9yLL",
        "outputId": "34a57d5d-8249-44f5-d302-99188a47d02a"
      },
      "outputs": [
        {
          "name": "stdout",
          "output_type": "stream",
          "text": [
            "P-value of 6.386444750436982e-05 give evidence that model difference is significant\n"
          ]
        }
      ],
      "source": [
        "if p_value < 0.05:\n",
        "    print(f\"P-value of {p_value} give evidence that model difference is significant\")\n",
        "else:\n",
        "    print(f\"P-value of {p_value} give evidence that model difference is not significant\")\n"
      ]
    }
  ],
  "metadata": {
    "accelerator": "GPU",
    "colab": {
      "machine_shape": "hm",
      "provenance": []
    },
    "kernelspec": {
      "display_name": "Python 3",
      "name": "python3"
    },
    "language_info": {
      "name": "python"
    }
  },
  "nbformat": 4,
  "nbformat_minor": 0
}